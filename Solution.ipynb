{
 "cells": [
  {
   "cell_type": "code",
   "execution_count": 1,
   "id": "962034d5",
   "metadata": {},
   "outputs": [],
   "source": [
    "import pandas as pd\n",
    "from pyspark.sql.dataframe import DataFrame as spark_DataFrame\n",
    "from pyspark.sql.functions import col, count, round \n",
    "from pyspark.sql import SparkSession\n",
    "import numpy as np"
   ]
  },
  {
   "cell_type": "code",
   "execution_count": 2,
   "id": "142a14a1",
   "metadata": {},
   "outputs": [
    {
     "name": "stderr",
     "output_type": "stream",
     "text": [
      "25/01/01 21:38:36 WARN Utils: Your hostname, madiv resolves to a loopback address: 127.0.1.1; using 192.168.1.11 instead (on interface wlo1)\n",
      "25/01/01 21:38:36 WARN Utils: Set SPARK_LOCAL_IP if you need to bind to another address\n",
      "Setting default log level to \"WARN\".\n",
      "To adjust logging level use sc.setLogLevel(newLevel). For SparkR, use setLogLevel(newLevel).\n",
      "25/01/01 21:38:47 WARN NativeCodeLoader: Unable to load native-hadoop library for your platform... using builtin-java classes where applicable\n",
      "25/01/01 21:39:02 WARN Utils: Service 'SparkUI' could not bind on port 4040. Attempting port 4041.\n"
     ]
    }
   ],
   "source": [
    "spark = SparkSession.builder.appName('LeetCode').getOrCreate()"
   ]
  },
  {
   "cell_type": "code",
   "execution_count": 3,
   "id": "dfc0d596",
   "metadata": {},
   "outputs": [
    {
     "name": "stderr",
     "output_type": "stream",
     "text": [
      "                                                                                \r"
     ]
    }
   ],
   "source": [
    "spark_Signups = spark.read.option('header', True).option('delimiter', ',').csv('Signups.csv')\n",
    "spark_Confirmations = spark.read.option('header', True).option('delimiter', ',').csv('Confirmations.csv')\n",
    "pandas_Signups = pd.read_csv('Signups.csv')\n",
    "pandas_Confirmations = pd.read_csv('Confirmations.csv')"
   ]
  },
  {
   "cell_type": "code",
   "execution_count": 4,
   "id": "4c515b8f",
   "metadata": {},
   "outputs": [
    {
     "name": "stderr",
     "output_type": "stream",
     "text": [
      "                                                                                \r"
     ]
    },
    {
     "name": "stdout",
     "output_type": "stream",
     "text": [
      "+-------+-------------------+\n",
      "|user_id|         time_stamp|\n",
      "+-------+-------------------+\n",
      "|      3|2020-03-21 10:16:13|\n",
      "|      7|2020-01-04 13:57:59|\n",
      "|      2|2020-07-29 23:09:44|\n",
      "|      6|2020-12-09 10:39:37|\n",
      "+-------+-------------------+\n",
      "\n"
     ]
    }
   ],
   "source": [
    "spark_Signups.show(100)"
   ]
  },
  {
   "cell_type": "code",
   "execution_count": 5,
   "id": "0025f6a1",
   "metadata": {},
   "outputs": [
    {
     "name": "stderr",
     "output_type": "stream",
     "text": [
      "                                                                                \r"
     ]
    },
    {
     "name": "stdout",
     "output_type": "stream",
     "text": [
      "+-------+-------------------+---------+\n",
      "|user_id|         time_stamp|   action|\n",
      "+-------+-------------------+---------+\n",
      "|      3| 2021-01-06 3:30:46|  timeout|\n",
      "|      3|2021-07-14 14:00:00|  timeout|\n",
      "|      7|2021-06-12 11:57:29|confirmed|\n",
      "|      7|2021-06-13 12:58:28|confirmed|\n",
      "|      7|2021-06-14 13:59:27|confirmed|\n",
      "|      2| 2021-01-22 0:00:00|confirmed|\n",
      "|      2|2021-02-28 23:59:59|  timeout|\n",
      "+-------+-------------------+---------+\n",
      "\n"
     ]
    }
   ],
   "source": [
    "spark_Confirmations.show(100)"
   ]
  },
  {
   "cell_type": "code",
   "execution_count": 6,
   "id": "86afbccd",
   "metadata": {},
   "outputs": [
    {
     "data": {
      "text/html": [
       "<div>\n",
       "<style scoped>\n",
       "    .dataframe tbody tr th:only-of-type {\n",
       "        vertical-align: middle;\n",
       "    }\n",
       "\n",
       "    .dataframe tbody tr th {\n",
       "        vertical-align: top;\n",
       "    }\n",
       "\n",
       "    .dataframe thead th {\n",
       "        text-align: right;\n",
       "    }\n",
       "</style>\n",
       "<table border=\"1\" class=\"dataframe\">\n",
       "  <thead>\n",
       "    <tr style=\"text-align: right;\">\n",
       "      <th></th>\n",
       "      <th>user_id</th>\n",
       "      <th>time_stamp</th>\n",
       "    </tr>\n",
       "  </thead>\n",
       "  <tbody>\n",
       "    <tr>\n",
       "      <th>0</th>\n",
       "      <td>3</td>\n",
       "      <td>2020-03-21 10:16:13</td>\n",
       "    </tr>\n",
       "    <tr>\n",
       "      <th>1</th>\n",
       "      <td>7</td>\n",
       "      <td>2020-01-04 13:57:59</td>\n",
       "    </tr>\n",
       "    <tr>\n",
       "      <th>2</th>\n",
       "      <td>2</td>\n",
       "      <td>2020-07-29 23:09:44</td>\n",
       "    </tr>\n",
       "    <tr>\n",
       "      <th>3</th>\n",
       "      <td>6</td>\n",
       "      <td>2020-12-09 10:39:37</td>\n",
       "    </tr>\n",
       "  </tbody>\n",
       "</table>\n",
       "</div>"
      ],
      "text/plain": [
       "   user_id           time_stamp\n",
       "0        3  2020-03-21 10:16:13\n",
       "1        7  2020-01-04 13:57:59\n",
       "2        2  2020-07-29 23:09:44\n",
       "3        6  2020-12-09 10:39:37"
      ]
     },
     "execution_count": 6,
     "metadata": {},
     "output_type": "execute_result"
    }
   ],
   "source": [
    "pandas_Signups.head(100)"
   ]
  },
  {
   "cell_type": "code",
   "execution_count": 7,
   "id": "4095b4f8",
   "metadata": {},
   "outputs": [
    {
     "data": {
      "text/html": [
       "<div>\n",
       "<style scoped>\n",
       "    .dataframe tbody tr th:only-of-type {\n",
       "        vertical-align: middle;\n",
       "    }\n",
       "\n",
       "    .dataframe tbody tr th {\n",
       "        vertical-align: top;\n",
       "    }\n",
       "\n",
       "    .dataframe thead th {\n",
       "        text-align: right;\n",
       "    }\n",
       "</style>\n",
       "<table border=\"1\" class=\"dataframe\">\n",
       "  <thead>\n",
       "    <tr style=\"text-align: right;\">\n",
       "      <th></th>\n",
       "      <th>user_id</th>\n",
       "      <th>time_stamp</th>\n",
       "      <th>action</th>\n",
       "    </tr>\n",
       "  </thead>\n",
       "  <tbody>\n",
       "    <tr>\n",
       "      <th>0</th>\n",
       "      <td>3</td>\n",
       "      <td>2021-01-06 3:30:46</td>\n",
       "      <td>timeout</td>\n",
       "    </tr>\n",
       "    <tr>\n",
       "      <th>1</th>\n",
       "      <td>3</td>\n",
       "      <td>2021-07-14 14:00:00</td>\n",
       "      <td>timeout</td>\n",
       "    </tr>\n",
       "    <tr>\n",
       "      <th>2</th>\n",
       "      <td>7</td>\n",
       "      <td>2021-06-12 11:57:29</td>\n",
       "      <td>confirmed</td>\n",
       "    </tr>\n",
       "    <tr>\n",
       "      <th>3</th>\n",
       "      <td>7</td>\n",
       "      <td>2021-06-13 12:58:28</td>\n",
       "      <td>confirmed</td>\n",
       "    </tr>\n",
       "    <tr>\n",
       "      <th>4</th>\n",
       "      <td>7</td>\n",
       "      <td>2021-06-14 13:59:27</td>\n",
       "      <td>confirmed</td>\n",
       "    </tr>\n",
       "    <tr>\n",
       "      <th>5</th>\n",
       "      <td>2</td>\n",
       "      <td>2021-01-22 0:00:00</td>\n",
       "      <td>confirmed</td>\n",
       "    </tr>\n",
       "    <tr>\n",
       "      <th>6</th>\n",
       "      <td>2</td>\n",
       "      <td>2021-02-28 23:59:59</td>\n",
       "      <td>timeout</td>\n",
       "    </tr>\n",
       "  </tbody>\n",
       "</table>\n",
       "</div>"
      ],
      "text/plain": [
       "   user_id           time_stamp     action\n",
       "0        3   2021-01-06 3:30:46    timeout\n",
       "1        3  2021-07-14 14:00:00    timeout\n",
       "2        7  2021-06-12 11:57:29  confirmed\n",
       "3        7  2021-06-13 12:58:28  confirmed\n",
       "4        7  2021-06-14 13:59:27  confirmed\n",
       "5        2   2021-01-22 0:00:00  confirmed\n",
       "6        2  2021-02-28 23:59:59    timeout"
      ]
     },
     "execution_count": 7,
     "metadata": {},
     "output_type": "execute_result"
    }
   ],
   "source": [
    "pandas_Confirmations.head(100)"
   ]
  },
  {
   "cell_type": "markdown",
   "id": "4a4ade1f",
   "metadata": {},
   "source": [
    "### SQL"
   ]
  },
  {
   "cell_type": "code",
   "execution_count": 8,
   "id": "36d89428",
   "metadata": {},
   "outputs": [
    {
     "name": "stderr",
     "output_type": "stream",
     "text": [
      "[Stage 11:>                                                         (0 + 1) / 1]\r"
     ]
    },
    {
     "name": "stdout",
     "output_type": "stream",
     "text": [
      "+-------+-----------------+\n",
      "|user_id|confirmation_rate|\n",
      "+-------+-----------------+\n",
      "|      7|              1.0|\n",
      "|      3|              0.0|\n",
      "|      6|              0.0|\n",
      "|      2|              0.5|\n",
      "+-------+-----------------+\n",
      "\n"
     ]
    },
    {
     "name": "stderr",
     "output_type": "stream",
     "text": [
      "\r",
      "                                                                                \r"
     ]
    }
   ],
   "source": [
    "def confirmation_rate(signups: spark_DataFrame, confirmations: spark_DataFrame) -> pd.DataFrame:\n",
    "    signups.createOrReplaceTempView('Signups')\n",
    "    confirmations.createOrReplaceTempView('Confirmations')\n",
    "    \n",
    "    sqlQuery = \\\n",
    "    '''\n",
    "    WITH Confirmed AS (\n",
    "        -- CTE: Get all rows from the Confirmations table where the action is 'confirmed'\n",
    "        SELECT * \n",
    "        FROM Confirmations\n",
    "        WHERE action = 'confirmed'\n",
    "    ),\n",
    "\n",
    "    ConfirmationCounts AS (\n",
    "        -- CTE: Calculate the count of confirmed actions for each user\n",
    "        SELECT \n",
    "            s.user_id, \n",
    "            COALESCE(count(c.action), 0) AS confirmation_count  -- Count confirmed actions, default to 0 if no actions found\n",
    "        FROM Signups s\n",
    "        LEFT JOIN Confirmed c  -- Join Signups with the Confirmed CTE\n",
    "        ON s.user_id = c.user_id  -- Match by user_id\n",
    "        GROUP BY s.user_id  -- Group by user_id to get confirmation count per user\n",
    "    ),\n",
    "\n",
    "    TotalRequests AS (\n",
    "        -- CTE: Calculate the total number of requests (actions) for each user\n",
    "        SELECT\n",
    "            s.user_id,\n",
    "            COALESCE(count(*), 0) AS total_count  -- Count all requests (including confirmed and timed-out), default to 0 if no actions found\n",
    "        FROM Signups s\n",
    "        LEFT JOIN Confirmations c  -- Join Signups with the Confirmations table\n",
    "        ON s.user_id = c.user_id  -- Match by user_id\n",
    "        GROUP BY s.user_id  -- Group by user_id to get total count per user\n",
    "    )\n",
    "\n",
    "    -- Final Query: Calculate the confirmation rate as the ratio of confirmed actions to total requests for each user\n",
    "    SELECT \n",
    "        cc.user_id,  -- User ID from ConfirmationCounts\n",
    "        ROUND(AVG(cc.confirmation_count /tr.total_count), 2) AS confirmation_rate  -- Calculate confirmation rate, handle division by zero using NULLIF\n",
    "    FROM ConfirmationCounts cc\n",
    "    JOIN TotalRequests tr  -- Join ConfirmationCounts with TotalRequests by user_id\n",
    "    ON cc.user_id = tr.user_id  -- Match by user_id\n",
    "    GROUP BY cc.user_id;  -- Group by user_id to calculate the confirmation rate per user\n",
    "    '''\n",
    "    \n",
    "    output = spark.sql(sqlQuery = sqlQuery)\n",
    "    return output\n",
    "\n",
    "output = confirmation_rate(signups = spark_Signups, confirmations = spark_Confirmations)\n",
    "output.show(100)"
   ]
  },
  {
   "cell_type": "markdown",
   "id": "b0557170",
   "metadata": {},
   "source": [
    "### PySpark"
   ]
  },
  {
   "cell_type": "code",
   "execution_count": 9,
   "id": "5a29fd1a",
   "metadata": {},
   "outputs": [
    {
     "name": "stderr",
     "output_type": "stream",
     "text": [
      "[Stage 19:>                                                         (0 + 1) / 1]\r"
     ]
    },
    {
     "name": "stdout",
     "output_type": "stream",
     "text": [
      "+-------+-----------------+\n",
      "|user_id|confirmation_rate|\n",
      "+-------+-----------------+\n",
      "|      7|              1.0|\n",
      "|      3|              0.0|\n",
      "|      6|              0.0|\n",
      "|      2|              0.5|\n",
      "+-------+-----------------+\n",
      "\n"
     ]
    },
    {
     "name": "stderr",
     "output_type": "stream",
     "text": [
      "\r",
      "                                                                                \r"
     ]
    }
   ],
   "source": [
    "def confirmation_rate(signups: spark_DataFrame, confirmations: spark_DataFrame) -> pd.DataFrame:\n",
    "    # Filter the Confirmations DataFrame to get only rows where action is 'confirmed'\n",
    "    Confirmed = confirmations.filter(confirmations['action'] == 'confirmed')\n",
    "    \n",
    "    # CTE: Calculate the count of confirmed actions for each user\n",
    "    ConfirmationCounts = signups.alias('s').join(Confirmed.alias('c'), on = 'user_id', how = 'left')\\\n",
    "        .select(['user_id', 'action'])\\\n",
    "        .groupby(['user_id'])\\\n",
    "        .agg(count(col('action')).alias('confirmation_count'))\\\n",
    "        .select(['user_id', 'confirmation_count'])\n",
    "    # Explanation: Join Signups with Confirmed DataFrame on user_id, and count the 'action' (which is 'confirmed'). \n",
    "    # If no confirmation exists, the count will be 0 due to LEFT JOIN.\n",
    "\n",
    "    # CTE: Calculate the total number of confirmation requests for each user\n",
    "    TotalRequests = signups.alias('s').join(confirmations.alias('c'), on = 'user_id', how = 'left')\\\n",
    "        .select(['user_id'])\\\n",
    "        .groupby(['user_id'])\\\n",
    "        .agg(count(col('user_id')).alias('total_count'))\\\n",
    "        .select(['user_id', 'total_count'])\n",
    "    # Explanation: Join Signups with Confirmations on user_id, and count the total requests for each user.\n",
    "    # Even users with no requests will be included (count will be 0) due to LEFT JOIN.\n",
    "\n",
    "    # Final Calculation: Join the two CTEs (ConfirmationCounts and TotalRequests) to calculate confirmation rate\n",
    "    ConfirmationRate = TotalRequests.alias('tr').join(ConfirmationCounts.alias('cc'), \n",
    "                                                      on = 'user_id', how = 'inner')\\\n",
    "        .groupby(['user_id', 'confirmation_count', 'total_count'])\\\n",
    "        .agg(round((col('confirmation_count')/col('total_count')), 2).alias('confirmation_rate'))\\\n",
    "        .select(['user_id', 'confirmation_rate'])\n",
    "    # Explanation: Join the two CTEs to match the user_ids and calculate the confirmation rate.\n",
    "    # The confirmation rate is calculated by dividing the 'confirmation_count' by 'total_count', \n",
    "    # rounded to 2 decimal places.\n",
    "    \n",
    "    # Return the DataFrame containing user_id and their respective confirmation rate\n",
    "    return ConfirmationRate\n",
    "\n",
    "output = confirmation_rate(signups = spark_Signups, confirmations = spark_Confirmations)\n",
    "output.show(100)"
   ]
  },
  {
   "cell_type": "markdown",
   "id": "36a5dc96",
   "metadata": {},
   "source": [
    "### Pandas"
   ]
  },
  {
   "cell_type": "code",
   "execution_count": 10,
   "id": "2974e9b5",
   "metadata": {},
   "outputs": [
    {
     "data": {
      "text/html": [
       "<div>\n",
       "<style scoped>\n",
       "    .dataframe tbody tr th:only-of-type {\n",
       "        vertical-align: middle;\n",
       "    }\n",
       "\n",
       "    .dataframe tbody tr th {\n",
       "        vertical-align: top;\n",
       "    }\n",
       "\n",
       "    .dataframe thead th {\n",
       "        text-align: right;\n",
       "    }\n",
       "</style>\n",
       "<table border=\"1\" class=\"dataframe\">\n",
       "  <thead>\n",
       "    <tr style=\"text-align: right;\">\n",
       "      <th></th>\n",
       "      <th>user_id</th>\n",
       "      <th>confirmation_rate</th>\n",
       "    </tr>\n",
       "  </thead>\n",
       "  <tbody>\n",
       "    <tr>\n",
       "      <th>0</th>\n",
       "      <td>2</td>\n",
       "      <td>0.5</td>\n",
       "    </tr>\n",
       "    <tr>\n",
       "      <th>1</th>\n",
       "      <td>3</td>\n",
       "      <td>0.0</td>\n",
       "    </tr>\n",
       "    <tr>\n",
       "      <th>2</th>\n",
       "      <td>6</td>\n",
       "      <td>0.0</td>\n",
       "    </tr>\n",
       "    <tr>\n",
       "      <th>3</th>\n",
       "      <td>7</td>\n",
       "      <td>1.0</td>\n",
       "    </tr>\n",
       "  </tbody>\n",
       "</table>\n",
       "</div>"
      ],
      "text/plain": [
       "   user_id  confirmation_rate\n",
       "0        2                0.5\n",
       "1        3                0.0\n",
       "2        6                0.0\n",
       "3        7                1.0"
      ]
     },
     "execution_count": 10,
     "metadata": {},
     "output_type": "execute_result"
    }
   ],
   "source": [
    "def confirmation_rate(signups: pd.DataFrame, confirmations: pd.DataFrame) -> pd.DataFrame:\n",
    "    # Filter the 'confirmations' DataFrame for rows where 'action' is 'confirmed'\n",
    "    confirmed_confirmations = confirmations[confirmations['action'] == 'confirmed']\n",
    "    \n",
    "    # Merge the signups DataFrame with confirmed confirmations to get users with confirmed actions\n",
    "    signups_with_confirmations = signups.merge(confirmed_confirmations, on='user_id', how='left')\n",
    "    \n",
    "    # Extract only the 'user_id' and 'action' columns for processing\n",
    "    action_data = signups_with_confirmations[['user_id', 'action']]\n",
    "    \n",
    "    # Initialize a dictionary to store the confirmation counts for each user\n",
    "    confirmation_counts_dict = {}\n",
    "    \n",
    "    # Iterate over each row in the action_data to count confirmations per user\n",
    "    for row in action_data.values:\n",
    "        user_id = row[0]  # Get the user_id\n",
    "        action = row[1]   # Get the action (either 'confirmed' or NaN)\n",
    "        \n",
    "        # Initialize the user ID in the dictionary if not already present\n",
    "        confirmation_counts_dict[user_id] = confirmation_counts_dict.get(user_id, 0)\n",
    "        \n",
    "        # If the action is 'confirmed', increment the confirmation count for the user\n",
    "        if action == 'confirmed':\n",
    "            confirmation_counts_dict[user_id] += 1\n",
    "\n",
    "    # Convert the dictionary of user confirmation counts into a DataFrame\n",
    "    confirmation_counts = pd.DataFrame(confirmation_counts_dict.items(), columns=['user_id', 'confirmation_count'])\n",
    "\n",
    "    # Create the TotalRequests DataFrame which counts total confirmation requests per user\n",
    "    total_requests = signups.merge(confirmations, on='user_id', how='left')\\\n",
    "                            .groupby(['user_id']).size().reset_index(name='total_count')\n",
    "\n",
    "    # Merge the confirmation counts with the total requests to get confirmation data for each user\n",
    "    merged_confirmation_data = total_requests.merge(confirmation_counts, on='user_id', how='inner')\n",
    "\n",
    "    # Extract the relevant columns: 'confirmation_count' and 'total_count'\n",
    "    relevant_data = merged_confirmation_data[['confirmation_count', 'total_count']]\n",
    "    \n",
    "    # Initialize a list to store the calculated confirmation rates\n",
    "    confirmation_rate_list = []\n",
    "    \n",
    "    # Iterate through each row and calculate the confirmation rate as (confirmed count / total count)\n",
    "    for row in relevant_data.values:\n",
    "        # Calculate the confirmation rate and round to 2 decimal places\n",
    "        rate = np.round((row[0] / row[1]), 2) if row[1] > 0 else 0.0  # Prevent division by zero\n",
    "        confirmation_rate_list.append(rate)\n",
    "\n",
    "    # Add the calculated confirmation rates to the DataFrame\n",
    "    merged_confirmation_data['confirmation_rate'] = confirmation_rate_list\n",
    "    \n",
    "    # Select only the 'user_id' and 'confirmation_rate' columns for the final result\n",
    "    result = merged_confirmation_data[['user_id', 'confirmation_rate']]\n",
    "    \n",
    "    return result\n",
    "\n",
    "output = confirmation_rate(signups = pandas_Signups, confirmations = pandas_Confirmations)\n",
    "output.head(100)"
   ]
  }
 ],
 "metadata": {
  "kernelspec": {
   "display_name": "Python 3 (ipykernel)",
   "language": "python",
   "name": "python3"
  },
  "language_info": {
   "codemirror_mode": {
    "name": "ipython",
    "version": 3
   },
   "file_extension": ".py",
   "mimetype": "text/x-python",
   "name": "python",
   "nbconvert_exporter": "python",
   "pygments_lexer": "ipython3",
   "version": "3.11.5"
  }
 },
 "nbformat": 4,
 "nbformat_minor": 5
}
